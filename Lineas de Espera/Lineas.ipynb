{
 "cells": [
  {
   "cell_type": "code",
   "execution_count": 199,
   "metadata": {},
   "outputs": [],
   "source": [
    "from decimal import Decimal, getcontext\n",
    "from numpy import inf\n",
    "from math import factorial\n",
    "import pandas as pd"
   ]
  },
  {
   "cell_type": "code",
   "execution_count": 200,
   "metadata": {},
   "outputs": [],
   "source": [
    "def get_p0(lamb, mu, s, c, precision=6):\n",
    "    getcontext().prec = precision + 6\n",
    "\n",
    "    assert(lamb > 0), \"Lambda must be greater than 0\"\n",
    "    assert(mu > 0), \"Mu must be greater than 0\"\n",
    "    assert(s > 0), \"Servers Lambda must be greater than 0\"\n",
    "    assert(c > 0), \"Line capacity must be greater than 0\"\n",
    "\n",
    "    N = s + c\n",
    "    sigma = Decimal(lamb) / Decimal(mu)\n",
    "    p_0 = Decimal(0)\n",
    "\n",
    "    if (s == 1) and (c != inf):\n",
    "        p_0 += (1 - sigma) / (1 - sigma ** (N + 1))\n",
    "    elif (s == 1) and (c == inf):\n",
    "        assert sigma < 1, \"System must be stable (ρ < 1).\"\n",
    "        \n",
    "        p_0 += 1 - sigma\n",
    "    elif (s != 1) and (c != inf):\n",
    "        s_factorial = Decimal(factorial(s))\n",
    "        for i in range(N + 1):\n",
    "            if i < s:\n",
    "                p_0 += (sigma ** i) / Decimal(factorial(i))\n",
    "            else:\n",
    "                p_0 += (sigma ** i) / ((s_factorial) * Decimal(s ** (i - s)))\n",
    "\n",
    "        p_0 = 1 / p_0\n",
    "    elif (s != 1) and (c == inf):\n",
    "        assert sigma / s < 1, \"System must be stable (ρ < 1).\"\n",
    "\n",
    "        for i in range(s):\n",
    "            p_0 += (sigma ** i) / Decimal(factorial(i))\n",
    "        \n",
    "        p_0 += (sigma ** s) / (Decimal(factorial(s - 1)) * (s - sigma))\n",
    "\n",
    "        p_0 = 1 / p_0\n",
    "    else:\n",
    "        print(\"Failed.\")\n",
    "    \n",
    "    return p_0"
   ]
  },
  {
   "cell_type": "code",
   "execution_count": 201,
   "metadata": {},
   "outputs": [],
   "source": [
    "def get_pn(lamb, mu, s, c, n, precision=6):\n",
    "    getcontext().prec = precision + 6\n",
    "\n",
    "    assert(lamb > 0), \"Lambda must be greater than 0\"\n",
    "    assert(mu > 0), \"Mu must be greater than 0\"\n",
    "    assert(s > 0), \"Servers Lambda must be greater than 0\"\n",
    "    assert(c > 0), \"Line capacity must be greater than 0\"\n",
    "\n",
    "    sigma = Decimal(lamb) / Decimal(mu)\n",
    "    p_0 = Decimal(get_p0(lamb, mu, s, c, precision))\n",
    "\n",
    "    if (s == 1):\n",
    "        p_n = (sigma ** n) * p_0\n",
    "    else:\n",
    "        if n < s:\n",
    "            p_n = (sigma ** n) * (p_0) / (Decimal(factorial(n)))\n",
    "        else:\n",
    "            p_n = (sigma ** n) * (p_0) / (Decimal(factorial(s)) * (s ** (n - s)))\n",
    "    \n",
    "    return p_n"
   ]
  },
  {
   "cell_type": "code",
   "execution_count": 202,
   "metadata": {},
   "outputs": [],
   "source": [
    "def get_l_ef(lamb, mu, s, c, precision=6):\n",
    "    getcontext().prec = precision + 6\n",
    "\n",
    "    assert(lamb > 0), \"Lambda must be greater than 0\"\n",
    "    assert(mu > 0), \"Mu must be greater than 0\"\n",
    "    assert(s > 0), \"Servers Lambda must be greater than 0\"\n",
    "    assert(c > 0), \"Line capacity must be greater than 0\"\n",
    "\n",
    "    N = s + c\n",
    "    sigma = Decimal(lamb) / Decimal(mu)\n",
    "\n",
    "    if (c != inf):\n",
    "        l_ef = Decimal(lamb) * (1 - Decimal(get_pn(lamb, mu, s, c, N, precision)))\n",
    "\n",
    "    elif (c == inf):\n",
    "        assert sigma / s < 1, \"System must be stable (ρ < 1).\"\n",
    "        l_ef = Decimal(lamb)\n",
    "    else:\n",
    "        l_ef = -1\n",
    "    return l_ef"
   ]
  },
  {
   "cell_type": "code",
   "execution_count": 203,
   "metadata": {},
   "outputs": [],
   "source": [
    "def get_L(lamb, mu, s, c, precision=6):\n",
    "    getcontext().prec = precision + 6\n",
    "\n",
    "    assert(lamb > 0), \"Lambda must be greater than 0\"\n",
    "    assert(mu > 0), \"Mu must be greater than 0\"\n",
    "    assert(s > 0), \"Servers Lambda must be greater than 0\"\n",
    "    assert(c > 0), \"Line capacity must be greater than 0\"\n",
    "\n",
    "    # L = W * lambda\n",
    "\n",
    "    W = Decimal(get_W(lamb, mu, s, c, precision))\n",
    "    l_ef = Decimal(get_l_ef(lamb, mu, s, c, precision))\n",
    "    L = W * l_ef\n",
    "\n",
    "    return L"
   ]
  },
  {
   "cell_type": "code",
   "execution_count": 204,
   "metadata": {},
   "outputs": [],
   "source": [
    "def get_Lq(lamb, mu, s, c, precision=6):\n",
    "    getcontext().prec = precision + 6\n",
    "\n",
    "    assert(lamb > 0), \"Lambda must be greater than 0\"\n",
    "    assert(mu > 0), \"Mu must be greater than 0\"\n",
    "    assert(s > 0), \"Servers Lambda must be greater than 0\"\n",
    "    assert(c > 0), \"Line capacity must be greater than 0\"\n",
    "\n",
    "    N = s + c\n",
    "    sigma = Decimal(lamb) / Decimal(mu)\n",
    "\n",
    "    if (s == 1) and (c != inf):\n",
    "        L_q = sum((n - 1) * get_pn(lamb, mu, s, c, n, precision) for n in range(1, N + 1))\n",
    "    elif (s == 1) and (c == inf):\n",
    "        assert sigma < 1, \"System must be stable (ρ < 1).\"\n",
    "        L_q = (Decimal(lamb) ** 2) / (Decimal(mu) * (Decimal(mu) - Decimal(lamb)))\n",
    "    elif (s != 1) and (c != inf):\n",
    "        L_q = sum((n - s) * get_pn(lamb, mu, s, c, n, precision) for n in range(s, N + 1))\n",
    "    elif (s != 1) and (c == inf):\n",
    "        assert sigma / s < 1, \"System must be stable (ρ < 1).\"\n",
    "        p_0 = Decimal(get_p0(lamb, mu, s, c, precision))\n",
    "        L_q =  p_0 * (sigma ** (s + 1)) / (Decimal(factorial(s - 1)) * ((s - sigma) ** 2))\n",
    "    else:\n",
    "        L_q = -1\n",
    "    return L_q"
   ]
  },
  {
   "cell_type": "code",
   "execution_count": 205,
   "metadata": {},
   "outputs": [],
   "source": [
    "def get_W(lamb, mu, s, c, precision=6):\n",
    "    getcontext().prec = precision + 6\n",
    "\n",
    "    assert(lamb > 0), \"Lambda must be greater than 0\"\n",
    "    assert(mu > 0), \"Mu must be greater than 0\"\n",
    "    assert(s > 0), \"Servers Lambda must be greater than 0\"\n",
    "    assert(c > 0), \"Line capacity must be greater than 0\"\n",
    "\n",
    "    W_q = Decimal(get_Wq(lamb, mu, s, c, precision))\n",
    "\n",
    "    W = W_q + Decimal(1 / mu)\n",
    "\n",
    "    return W"
   ]
  },
  {
   "cell_type": "code",
   "execution_count": 206,
   "metadata": {},
   "outputs": [],
   "source": [
    "def get_Wq(lamb, mu, s, c, precision=6):\n",
    "    getcontext().prec = precision + 6\n",
    "\n",
    "    assert(lamb > 0), \"Lambda must be greater than 0\"\n",
    "    assert(mu > 0), \"Mu must be greater than 0\"\n",
    "    assert(s > 0), \"Servers Lambda must be greater than 0\"\n",
    "    assert(c > 0), \"Line capacity must be greater than 0\"\n",
    "\n",
    "    L_q = Decimal(get_Lq(lamb, mu, s, c, precision))\n",
    "    l_ef = Decimal(get_l_ef(lamb, mu, s, c, precision))\n",
    "\n",
    "    W_q = L_q / l_ef\n",
    "\n",
    "    return W_q"
   ]
  },
  {
   "cell_type": "code",
   "execution_count": 207,
   "metadata": {},
   "outputs": [],
   "source": [
    "def get_rho(lamb, mu, s, c, precision):\n",
    "    getcontext().prec = precision + 6\n",
    "\n",
    "    assert(lamb > 0), \"Lambda must be greater than 0\"\n",
    "    assert(mu > 0), \"Mu must be greater than 0\"\n",
    "    assert(s > 0), \"Servers Lambda must be greater than 0\"\n",
    "    assert(c > 0), \"Line capacity must be greater than 0\"\n",
    "\n",
    "    l_ef = Decimal(get_l_ef(lamb, mu, s, c, precision))\n",
    "\n",
    "    rho = l_ef / Decimal(s * mu)\n",
    "\n",
    "    return rho"
   ]
  },
  {
   "cell_type": "code",
   "execution_count": 208,
   "metadata": {},
   "outputs": [],
   "source": [
    "def summary(lamb, mu, s, c, precision=6):\n",
    "    getcontext().prec = precision + 6\n",
    "\n",
    "    assert(lamb > 0), \"Lambda must be greater than 0\"\n",
    "    assert(mu > 0), \"Mu must be greater than 0\"\n",
    "    assert(s > 0), \"Servers Lambda must be greater than 0\"\n",
    "    assert(c > 0), \"Line capacity must be greater than 0\"\n",
    "\n",
    "    summary = {\n",
    "        'L_ef' : round(get_l_ef(lamb, mu, s, c, precision), precision),\n",
    "        'P_0' : round(get_p0(lamb, mu, s, c, precision), precision),\n",
    "        'Rho' : round(get_rho(lamb, mu, s, c, precision), precision),\n",
    "        'L' : round(get_L(lamb, mu, s, c, precision), precision),\n",
    "        'L_q' : round(get_Lq(lamb, mu, s, c, precision), precision),\n",
    "        'W' : round(get_W(lamb, mu, s, c, precision), precision),\n",
    "        'W_q' : round(get_Wq(lamb, mu, s, c, precision), precision),\n",
    "    }\n",
    "\n",
    "    return summary"
   ]
  },
  {
   "cell_type": "markdown",
   "metadata": {},
   "source": [
    "# Filas Infinitas S > 1"
   ]
  },
  {
   "cell_type": "markdown",
   "metadata": {},
   "source": [
    "## Problema 1"
   ]
  },
  {
   "cell_type": "code",
   "execution_count": 209,
   "metadata": {},
   "outputs": [],
   "source": [
    "args_1 = {\n",
    "    'lamb' : 8,\n",
    "    'mu' : 5,\n",
    "    's' : 2,\n",
    "    'c' : inf,\n",
    "    'precision' : 6\n",
    "}\n",
    "\n",
    "args_2 = {\n",
    "    'lamb' : 16,\n",
    "    'mu' : 5,\n",
    "    's' : 4,\n",
    "    'c' : inf,\n",
    "    'precision' : 6\n",
    "}"
   ]
  },
  {
   "cell_type": "code",
   "execution_count": 210,
   "metadata": {},
   "outputs": [
    {
     "data": {
      "text/plain": [
       "{'L_ef': Decimal('8.000000'),\n",
       " 'P_0': Decimal('0.111111'),\n",
       " 'Rho': Decimal('0.800000'),\n",
       " 'L': Decimal('4.444444'),\n",
       " 'L_q': Decimal('2.844444'),\n",
       " 'W': Decimal('0.555556'),\n",
       " 'W_q': Decimal('0.355556')}"
      ]
     },
     "execution_count": 210,
     "metadata": {},
     "output_type": "execute_result"
    }
   ],
   "source": [
    "summary(**args_1)"
   ]
  },
  {
   "cell_type": "code",
   "execution_count": 211,
   "metadata": {},
   "outputs": [
    {
     "data": {
      "text/plain": [
       "{'L_ef': Decimal('16.000000'),\n",
       " 'P_0': Decimal('0.027303'),\n",
       " 'Rho': Decimal('0.800000'),\n",
       " 'L': Decimal('5.585730'),\n",
       " 'L_q': Decimal('2.385730'),\n",
       " 'W': Decimal('0.349108'),\n",
       " 'W_q': Decimal('0.149108')}"
      ]
     },
     "execution_count": 211,
     "metadata": {},
     "output_type": "execute_result"
    }
   ],
   "source": [
    "summary(**args_2)"
   ]
  },
  {
   "cell_type": "markdown",
   "metadata": {},
   "source": [
    "## Problema 2"
   ]
  },
  {
   "cell_type": "code",
   "execution_count": 212,
   "metadata": {},
   "outputs": [],
   "source": [
    "args_1 = {\n",
    "    'lamb' : 2,\n",
    "    'mu' : 3,\n",
    "    's' : 1,\n",
    "    'c' : inf,\n",
    "    'precision' : 6\n",
    "}\n",
    "\n",
    "args_2 = {\n",
    "    'lamb' : 2,\n",
    "    'mu' : 3,\n",
    "    's' : 2,\n",
    "    'c' : inf,\n",
    "    'precision' : 6\n",
    "}"
   ]
  },
  {
   "cell_type": "code",
   "execution_count": 213,
   "metadata": {},
   "outputs": [
    {
     "data": {
      "text/plain": [
       "{'L_ef': Decimal('2.000000'),\n",
       " 'P_0': Decimal('0.333333'),\n",
       " 'Rho': Decimal('0.666667'),\n",
       " 'L': Decimal('2.000000'),\n",
       " 'L_q': Decimal('1.333333'),\n",
       " 'W': Decimal('1.000000'),\n",
       " 'W_q': Decimal('0.666667')}"
      ]
     },
     "execution_count": 213,
     "metadata": {},
     "output_type": "execute_result"
    }
   ],
   "source": [
    "summary(**args_1)"
   ]
  },
  {
   "cell_type": "code",
   "execution_count": 214,
   "metadata": {},
   "outputs": [
    {
     "data": {
      "text/plain": [
       "{'L_ef': Decimal('2.000000'),\n",
       " 'P_0': Decimal('0.500000'),\n",
       " 'Rho': Decimal('0.333333'),\n",
       " 'L': Decimal('0.750000'),\n",
       " 'L_q': Decimal('0.083333'),\n",
       " 'W': Decimal('0.375000'),\n",
       " 'W_q': Decimal('0.041667')}"
      ]
     },
     "execution_count": 214,
     "metadata": {},
     "output_type": "execute_result"
    }
   ],
   "source": [
    "summary(**args_2)"
   ]
  },
  {
   "cell_type": "code",
   "execution_count": 215,
   "metadata": {},
   "outputs": [
    {
     "data": {
      "text/html": [
       "<div>\n",
       "<style scoped>\n",
       "    .dataframe tbody tr th:only-of-type {\n",
       "        vertical-align: middle;\n",
       "    }\n",
       "\n",
       "    .dataframe tbody tr th {\n",
       "        vertical-align: top;\n",
       "    }\n",
       "\n",
       "    .dataframe thead th {\n",
       "        text-align: right;\n",
       "    }\n",
       "</style>\n",
       "<table border=\"1\" class=\"dataframe\">\n",
       "  <thead>\n",
       "    <tr style=\"text-align: right;\">\n",
       "      <th></th>\n",
       "      <th>L_ef</th>\n",
       "      <th>P_0</th>\n",
       "      <th>Rho</th>\n",
       "      <th>L</th>\n",
       "      <th>L_q</th>\n",
       "      <th>W</th>\n",
       "      <th>W_q</th>\n",
       "    </tr>\n",
       "  </thead>\n",
       "  <tbody>\n",
       "    <tr>\n",
       "      <th>0</th>\n",
       "      <td>2.000000</td>\n",
       "      <td>0.333333</td>\n",
       "      <td>0.666667</td>\n",
       "      <td>2.000000</td>\n",
       "      <td>1.333333</td>\n",
       "      <td>1.000000</td>\n",
       "      <td>0.666667</td>\n",
       "    </tr>\n",
       "    <tr>\n",
       "      <th>1</th>\n",
       "      <td>2.000000</td>\n",
       "      <td>0.500000</td>\n",
       "      <td>0.333333</td>\n",
       "      <td>0.750000</td>\n",
       "      <td>0.083333</td>\n",
       "      <td>0.375000</td>\n",
       "      <td>0.041667</td>\n",
       "    </tr>\n",
       "  </tbody>\n",
       "</table>\n",
       "</div>"
      ],
      "text/plain": [
       "       L_ef       P_0       Rho         L       L_q         W       W_q\n",
       "0  2.000000  0.333333  0.666667  2.000000  1.333333  1.000000  0.666667\n",
       "1  2.000000  0.500000  0.333333  0.750000  0.083333  0.375000  0.041667"
      ]
     },
     "execution_count": 215,
     "metadata": {},
     "output_type": "execute_result"
    }
   ],
   "source": [
    "pd.DataFrame([summary(**args_1), summary(**args_2)])"
   ]
  },
  {
   "cell_type": "markdown",
   "metadata": {},
   "source": [
    "# Filas Finitas S>1"
   ]
  },
  {
   "cell_type": "markdown",
   "metadata": {},
   "source": [
    "## Problema 1"
   ]
  },
  {
   "cell_type": "code",
   "execution_count": 216,
   "metadata": {},
   "outputs": [],
   "source": [
    "args_1 = {\n",
    "    'lamb' : 20,\n",
    "    'mu' : 10,\n",
    "    's' : 2,\n",
    "    'c' : 3,\n",
    "    'precision' : 6\n",
    "}"
   ]
  },
  {
   "cell_type": "code",
   "execution_count": 217,
   "metadata": {},
   "outputs": [
    {
     "data": {
      "text/plain": [
       "{'L_ef': Decimal('16.363636'),\n",
       " 'P_0': Decimal('0.090909'),\n",
       " 'Rho': Decimal('0.818182'),\n",
       " 'L': Decimal('2.727273'),\n",
       " 'L_q': Decimal('1.090909'),\n",
       " 'W': Decimal('0.166667'),\n",
       " 'W_q': Decimal('0.066667')}"
      ]
     },
     "execution_count": 217,
     "metadata": {},
     "output_type": "execute_result"
    }
   ],
   "source": [
    "summary(**args_1)"
   ]
  },
  {
   "cell_type": "code",
   "execution_count": 218,
   "metadata": {},
   "outputs": [
    {
     "data": {
      "text/plain": [
       "Decimal('0.181818181818')"
      ]
     },
     "execution_count": 218,
     "metadata": {},
     "output_type": "execute_result"
    }
   ],
   "source": [
    "'''\n",
    "a) La proporción de automóviles que llenarán el tanque en otro lado.\n",
    "'''\n",
    "\n",
    "get_pn(**args_1, n=5)"
   ]
  },
  {
   "cell_type": "code",
   "execution_count": 219,
   "metadata": {},
   "outputs": [
    {
     "data": {
      "text/plain": [
       "Decimal('0.181818181818')"
      ]
     },
     "execution_count": 219,
     "metadata": {},
     "output_type": "execute_result"
    }
   ],
   "source": [
    "'''\n",
    "b) La proporción de tiempo en el que se usa una bomba.\n",
    "'''\n",
    "\n",
    "get_pn(**args_1, n=1)"
   ]
  },
  {
   "cell_type": "code",
   "execution_count": 220,
   "metadata": {},
   "outputs": [
    {
     "data": {
      "text/plain": [
       "Decimal('0.81818181818')"
      ]
     },
     "execution_count": 220,
     "metadata": {},
     "output_type": "execute_result"
    }
   ],
   "source": [
    "'''\n",
    "c) La utilización proporcional de las dos bombas.\n",
    "'''\n",
    "# L_s = L - Lq = elementos que están siendo atendidos\n",
    "\n",
    "(get_L(**args_1) - get_Lq(**args_1)) / args_1['s']"
   ]
  },
  {
   "cell_type": "code",
   "execution_count": 221,
   "metadata": {},
   "outputs": [
    {
     "name": "stdout",
     "output_type": "stream",
     "text": [
      "[2, 3, 4]\n"
     ]
    },
    {
     "data": {
      "text/plain": [
       "Decimal('0.545454545455')"
      ]
     },
     "execution_count": 221,
     "metadata": {},
     "output_type": "execute_result"
    }
   ],
   "source": [
    "'''\n",
    "d) La probabilidad de que un automóvil que llegue no reciba servicio de inmediato, sino que se forme en la cola.\n",
    "'''\n",
    "\n",
    "print([n for n in range(args_1['s'], (args_1['s'] + args_1['c']))])\n",
    "sum(get_pn(**args_1, n=n) for n in range(args_1['s'], (args_1['s'] + args_1['c'])))"
   ]
  },
  {
   "cell_type": "markdown",
   "metadata": {},
   "source": [
    "## Problema 2"
   ]
  },
  {
   "cell_type": "code",
   "execution_count": null,
   "metadata": {},
   "outputs": [],
   "source": [
    "args_1 = {\n",
    "    'lamb' : 2,\n",
    "    'mu' : 3,\n",
    "    's' : 2,\n",
    "    'c' : 4,\n",
    "    'precision' : 6\n",
    "}"
   ]
  },
  {
   "cell_type": "code",
   "execution_count": 223,
   "metadata": {},
   "outputs": [
    {
     "data": {
      "text/plain": [
       "{'L_ef': Decimal('1.997255'),\n",
       " 'P_0': Decimal('0.500343'),\n",
       " 'Rho': Decimal('0.332876'),\n",
       " 'L': Decimal('0.745367'),\n",
       " 'L_q': Decimal('0.079616'),\n",
       " 'W': Decimal('0.373196'),\n",
       " 'W_q': Decimal('0.039863')}"
      ]
     },
     "execution_count": 223,
     "metadata": {},
     "output_type": "execute_result"
    }
   ],
   "source": [
    "summary(**args_1)"
   ]
  },
  {
   "cell_type": "code",
   "execution_count": null,
   "metadata": {},
   "outputs": [
    {
     "data": {
      "text/plain": [
       "Decimal('1.31777625258')"
      ]
     },
     "execution_count": 237,
     "metadata": {},
     "output_type": "execute_result"
    }
   ],
   "source": [
    "sum(get_pn(**args_1, n=n) for n in [2,3,4,5])*8"
   ]
  },
  {
   "cell_type": "code",
   "execution_count": 230,
   "metadata": {},
   "outputs": [
    {
     "data": {
      "text/plain": [
       "Decimal('2.63555250517')"
      ]
     },
     "execution_count": 230,
     "metadata": {},
     "output_type": "execute_result"
    }
   ],
   "source": [
    "sum([get_pn(**args_1, n=n) for n in [2,3,4,5]])*2*8"
   ]
  },
  {
   "cell_type": "code",
   "execution_count": 247,
   "metadata": {},
   "outputs": [],
   "source": [
    "args_1 = {\n",
    "    'lamb' : 12,\n",
    "    'mu' : 60/13,\n",
    "    's' : 3,\n",
    "    'c' : inf,\n",
    "    'precision' : 6\n",
    "}"
   ]
  },
  {
   "cell_type": "code",
   "execution_count": 248,
   "metadata": {},
   "outputs": [
    {
     "data": {
      "text/plain": [
       "{'L_ef': Decimal('12.000000'),\n",
       " 'P_0': Decimal('0.034542'),\n",
       " 'Rho': Decimal('0.866667'),\n",
       " 'L': Decimal('7.532815'),\n",
       " 'L_q': Decimal('4.932815'),\n",
       " 'W': Decimal('0.627735'),\n",
       " 'W_q': Decimal('0.411068')}"
      ]
     },
     "execution_count": 248,
     "metadata": {},
     "output_type": "execute_result"
    }
   ],
   "source": [
    "summary(**args_1)"
   ]
  },
  {
   "cell_type": "code",
   "execution_count": null,
   "metadata": {},
   "outputs": [],
   "source": []
  },
  {
   "cell_type": "code",
   "execution_count": 241,
   "metadata": {},
   "outputs": [
    {
     "data": {
      "text/plain": [
       "Decimal('0.390625000000')"
      ]
     },
     "execution_count": 241,
     "metadata": {},
     "output_type": "execute_result"
    }
   ],
   "source": [
    "1-sum(get_pn(**args_1, n=n) for n in [0, 1])"
   ]
  }
 ],
 "metadata": {
  "language_info": {
   "name": "python"
  }
 },
 "nbformat": 4,
 "nbformat_minor": 2
}
